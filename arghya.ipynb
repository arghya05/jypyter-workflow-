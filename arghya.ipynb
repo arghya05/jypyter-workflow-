{
 "cells": [
  {
   "cell_type": "code",
   "execution_count": 1,
   "id": "ad9b2e7a",
   "metadata": {},
   "outputs": [
    {
     "name": "stdout",
     "output_type": "stream",
     "text": [
      "arghya\n"
     ]
    }
   ],
   "source": [
    "print(\"arghya\")"
   ]
  },
  {
   "cell_type": "code",
   "execution_count": null,
   "id": "65fe97b6",
   "metadata": {},
   "outputs": [],
   "source": [
    "import pandas "
   ]
  },
  {
   "cell_type": "code",
   "execution_count": 1,
   "id": "fe18e9c3",
   "metadata": {},
   "outputs": [
    {
     "name": "stdout",
     "output_type": "stream",
     "text": [
      "this is arghya\n"
     ]
    }
   ],
   "source": [
    "print(\"this is arghya\")"
   ]
  },
  {
   "cell_type": "code",
   "execution_count": 2,
   "id": "8d7cb559",
   "metadata": {},
   "outputs": [
    {
     "data": {
      "text/plain": [
       "'i am fine'"
      ]
     },
     "execution_count": 2,
     "metadata": {},
     "output_type": "execute_result"
    }
   ],
   "source": [
    "\"i am fine\""
   ]
  },
  {
   "cell_type": "code",
   "execution_count": 3,
   "id": "a498e839",
   "metadata": {},
   "outputs": [],
   "source": [
    "import pandas as pd \n"
   ]
  },
  {
   "cell_type": "code",
   "execution_count": 4,
   "id": "f16aa6ef",
   "metadata": {},
   "outputs": [],
   "source": [
    "import numpy as np\n"
   ]
  },
  {
   "cell_type": "code",
   "execution_count": null,
   "id": "0ea7ce10",
   "metadata": {},
   "outputs": [],
   "source": []
  }
 ],
 "metadata": {
  "kernelspec": {
   "display_name": "Python 3 (ipykernel)",
   "language": "python",
   "name": "python3"
  },
  "language_info": {
   "codemirror_mode": {
    "name": "ipython",
    "version": 3
   },
   "file_extension": ".py",
   "mimetype": "text/x-python",
   "name": "python",
   "nbconvert_exporter": "python",
   "pygments_lexer": "ipython3",
   "version": "3.11.5"
  }
 },
 "nbformat": 4,
 "nbformat_minor": 5
}
